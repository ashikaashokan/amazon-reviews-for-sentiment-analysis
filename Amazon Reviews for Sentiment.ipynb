{
 "cells": [
  {
   "cell_type": "code",
   "execution_count": 1,
   "id": "5e5595c0",
   "metadata": {},
   "outputs": [],
   "source": [
    "from mpl_toolkits.mplot3d import Axes3D\n",
    "from sklearn.preprocessing import StandardScaler\n",
    "import matplotlib.pyplot as plt # plotting\n",
    "import numpy as np # linear algebra\n",
    "import os # accessing directory structure\n",
    "import pandas as pd # data processing, CSV file I/O (e.g. pd.read_csv)"
   ]
  },
  {
   "cell_type": "code",
   "execution_count": 2,
   "id": "2d498a93",
   "metadata": {},
   "outputs": [
    {
     "name": "stdout",
     "output_type": "stream",
     "text": [
      "test.ft.txt.bz2\n",
      "train.ft.txt.bz2\n"
     ]
    }
   ],
   "source": [
    "import os, sys\n",
    "# Open a file\n",
    "path = \"D:/archive\"\n",
    "dirs = os.listdir( \"D:/archive\" )\n",
    "\n",
    "# This would print all the files and directories\n",
    "for file in dirs:\n",
    "   print(file)"
   ]
  },
  {
   "cell_type": "code",
   "execution_count": 3,
   "id": "85f12286",
   "metadata": {},
   "outputs": [],
   "source": [
    "import bz2"
   ]
  },
  {
   "cell_type": "code",
   "execution_count": 4,
   "id": "447d3d1c",
   "metadata": {},
   "outputs": [],
   "source": [
    "def get_labels_and_texts(file):\n",
    "    labels = []\n",
    "    texts = []\n",
    "    for line in bz2.BZ2File(file):\n",
    "        x = line.decode(\"utf-8\")\n",
    "        labels.append(int(x[9]) - 1)\n",
    "        texts.append(x[10:].strip())\n",
    "    return np.array(labels), texts\n",
    "train_labels, train_texts = get_labels_and_texts('train.ft.txt.bz2')\n",
    "test_labels, test_texts = get_labels_and_texts('test.ft.txt.bz2')"
   ]
  },
  {
   "cell_type": "markdown",
   "id": "774ca2ad",
   "metadata": {},
   "source": [
    "pre-processing step"
   ]
  },
  {
   "cell_type": "code",
   "execution_count": 5,
   "id": "52100579",
   "metadata": {},
   "outputs": [],
   "source": [
    "import re\n",
    "NON_ALPHANUM = re.compile(r'[\\W]')\n",
    "NON_ASCII = re.compile(r'[^a-z0-1\\s]')\n",
    "def normalize_texts(texts):\n",
    "    normalized_texts = []\n",
    "    for text in texts:\n",
    "        lower = text.lower()\n",
    "        no_punctuation = NON_ALPHANUM.sub(r' ', lower)\n",
    "        no_non_ascii = NON_ASCII.sub(r'', no_punctuation)\n",
    "        normalized_texts.append(no_non_ascii)\n",
    "    return normalized_texts\n",
    "        \n",
    "train_texts = normalize_texts(train_texts)\n",
    "test_texts = normalize_texts(test_texts)\n",
    "#train/ValidationSplit"
   ]
  },
  {
   "cell_type": "code",
   "execution_count": 6,
   "id": "ccccd2ab",
   "metadata": {},
   "outputs": [
    {
     "data": {
      "text/plain": [
       "1"
      ]
     },
     "execution_count": 6,
     "metadata": {},
     "output_type": "execute_result"
    }
   ],
   "source": [
    "train_labels[0]"
   ]
  },
  {
   "cell_type": "code",
   "execution_count": 7,
   "id": "ff3efab6",
   "metadata": {},
   "outputs": [
    {
     "data": {
      "text/plain": [
       "'stuning even for the non gamer  this sound track was beautiful  it paints the senery in your mind so well i would recomend it even to people who hate vid  game music  i have played the game chrono cross but out of all of the games i have ever played it has the best music  it backs away from crude keyboarding and takes a fresher step with grate guitars and soulful orchestras  it would impress anyone who cares to listen    '"
      ]
     },
     "execution_count": 7,
     "metadata": {},
     "output_type": "execute_result"
    }
   ],
   "source": [
    "train_texts[0]"
   ]
  },
  {
   "cell_type": "code",
   "execution_count": 8,
   "id": "cdca29cc",
   "metadata": {},
   "outputs": [],
   "source": [
    "train_labels=train_labels[0:600]\n",
    "train_texts=train_texts[0:600]"
   ]
  },
  {
   "cell_type": "markdown",
   "id": "4aabb3a3",
   "metadata": {},
   "source": [
    "#countvectorter"
   ]
  },
  {
   "cell_type": "code",
   "execution_count": 9,
   "id": "7e20e5f4",
   "metadata": {},
   "outputs": [],
   "source": [
    "from sklearn.feature_extraction.text import CountVectorizer\n",
    "\n",
    "cv = CountVectorizer(binary=True)\n",
    "cv.fit(train_texts)\n",
    "x=cv.transform(train_texts)\n",
    "x_test=cv.transform(test_texts)"
   ]
  },
  {
   "cell_type": "code",
   "execution_count": 10,
   "id": "dc21d116",
   "metadata": {},
   "outputs": [
    {
     "data": {
      "text/plain": [
       "<400000x6436 sparse matrix of type '<class 'numpy.int64'>'\n",
       "\twith 18856961 stored elements in Compressed Sparse Row format>"
      ]
     },
     "execution_count": 10,
     "metadata": {},
     "output_type": "execute_result"
    }
   ],
   "source": [
    "x_test"
   ]
  },
  {
   "cell_type": "code",
   "execution_count": 11,
   "id": "8aba7150",
   "metadata": {},
   "outputs": [],
   "source": [
    "from sklearn.linear_model import LogisticRegression\n",
    "from sklearn.metrics import accuracy_score\n",
    "from sklearn.model_selection import train_test_split"
   ]
  },
  {
   "cell_type": "code",
   "execution_count": 12,
   "id": "a2f3f745",
   "metadata": {},
   "outputs": [
    {
     "name": "stdout",
     "output_type": "stream",
     "text": [
      "Accuracy for C=0.01: 0.7133333333333334\n",
      "Accuracy for C=0.05: 0.7466666666666667\n",
      "Accuracy for C=0.25: 0.76\n",
      "Accuracy for C=0.5: 0.7533333333333333\n",
      "Accuracy for C=1: 0.7533333333333333\n"
     ]
    }
   ],
   "source": [
    "x_train, x_val, y_train, y_val = train_test_split(\n",
    "    x, train_labels, train_size =0.75\n",
    ")\n",
    "for c in [0.01,0.05,0.25,0.5,1]:\n",
    "    lr = LogisticRegression(C=c)\n",
    "    lr.fit(x_train, y_train)\n",
    "    print(\"Accuracy for C=%s: %s\"\n",
    "         %(c,accuracy_score(y_val,lr.predict(x_val))))"
   ]
  },
  {
   "cell_type": "code",
   "execution_count": 13,
   "id": "fb4c518f",
   "metadata": {},
   "outputs": [
    {
     "data": {
      "text/plain": [
       "array([1])"
      ]
     },
     "execution_count": 13,
     "metadata": {},
     "output_type": "execute_result"
    }
   ],
   "source": [
    "lr.predict(x_test[1970])"
   ]
  },
  {
   "cell_type": "code",
   "execution_count": 14,
   "id": "2dbf64bd",
   "metadata": {},
   "outputs": [
    {
     "data": {
      "text/plain": [
       "0"
      ]
     },
     "execution_count": 14,
     "metadata": {},
     "output_type": "execute_result"
    }
   ],
   "source": [
    "test_labels[1970]"
   ]
  },
  {
   "cell_type": "code",
   "execution_count": 15,
   "id": "e688fd8f",
   "metadata": {},
   "outputs": [
    {
     "data": {
      "text/plain": [
       "'disappointing romance  writer uses the war as filler while trying to pass off child molesting as romance  couple doesn t get together until the end of the book  big disappointment and some mistakes with civil war history '"
      ]
     },
     "execution_count": 15,
     "metadata": {},
     "output_type": "execute_result"
    }
   ],
   "source": [
    "test_texts[1970]"
   ]
  },
  {
   "cell_type": "code",
   "execution_count": null,
   "id": "13cc52b9",
   "metadata": {},
   "outputs": [],
   "source": []
  }
 ],
 "metadata": {
  "kernelspec": {
   "display_name": "Python 3 (ipykernel)",
   "language": "python",
   "name": "python3"
  },
  "language_info": {
   "codemirror_mode": {
    "name": "ipython",
    "version": 3
   },
   "file_extension": ".py",
   "mimetype": "text/x-python",
   "name": "python",
   "nbconvert_exporter": "python",
   "pygments_lexer": "ipython3",
   "version": "3.9.7"
  }
 },
 "nbformat": 4,
 "nbformat_minor": 5
}
